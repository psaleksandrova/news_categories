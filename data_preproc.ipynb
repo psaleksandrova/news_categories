{
 "cells": [
  {
   "cell_type": "code",
   "execution_count": 1,
   "metadata": {
    "collapsed": true,
    "pycharm": {
     "is_executing": false
    }
   },
   "outputs": [],
   "source": [
    "import pandas as pd"
   ]
  },
  {
   "cell_type": "code",
   "execution_count": 2,
   "outputs": [],
   "source": [
    "df = pd.read_csv('lenta-ru-news.csv', engine='python', delimiter=',', error_bad_lines=False)"
   ],
   "metadata": {
    "collapsed": false,
    "pycharm": {
     "name": "#%%\n",
     "is_executing": false
    }
   }
  },
  {
   "cell_type": "code",
   "execution_count": 3,
   "outputs": [
    {
     "data": {
      "text/plain": "                                               url  \\\n0  https://lenta.ru/news/2015/06/26/khvorostovsky/   \n1            https://lenta.ru/news/2015/06/26/usa/   \n2         https://lenta.ru/news/2015/06/26/greece/   \n3           https://lenta.ru/news/2015/06/26/bomb/   \n4      https://lenta.ru/news/2015/06/26/eyesocket/   \n\n                                               title  \\\n0             Хворостовский будет лечиться в Лондоне   \n1  В США полиция застрелила очередного безоружног...   \n2  ЕС выразил надежду достичь соглашения с Грецие...   \n3  Дети подорвались на установленной владельцем д...   \n4        Зоркость людей объяснили устройством черепа   \n\n                                                text              topic  \\\n0  Оперный певец Дмитрий Хворостовский, у которог...           Культура   \n1  В США в пригороде Балтимора полицейские застре...                Мир   \n2  В руководстве Евросоюза рассчитывают, что согл...                Мир   \n3  В Приморском крае двое детей подорвались на са...  Силовые структуры   \n4  По сравнению с другими приматами человек облад...    Наука и техника   \n\n                   tags  \n0                Музыка  \n1              Общество  \n2              Политика  \n3  Полиция и спецслужбы  \n4                 Наука  ",
      "text/html": "<div>\n<style scoped>\n    .dataframe tbody tr th:only-of-type {\n        vertical-align: middle;\n    }\n\n    .dataframe tbody tr th {\n        vertical-align: top;\n    }\n\n    .dataframe thead th {\n        text-align: right;\n    }\n</style>\n<table border=\"1\" class=\"dataframe\">\n  <thead>\n    <tr style=\"text-align: right;\">\n      <th></th>\n      <th>url</th>\n      <th>title</th>\n      <th>text</th>\n      <th>topic</th>\n      <th>tags</th>\n    </tr>\n  </thead>\n  <tbody>\n    <tr>\n      <th>0</th>\n      <td>https://lenta.ru/news/2015/06/26/khvorostovsky/</td>\n      <td>Хворостовский будет лечиться в Лондоне</td>\n      <td>Оперный певец Дмитрий Хворостовский, у которог...</td>\n      <td>Культура</td>\n      <td>Музыка</td>\n    </tr>\n    <tr>\n      <th>1</th>\n      <td>https://lenta.ru/news/2015/06/26/usa/</td>\n      <td>В США полиция застрелила очередного безоружног...</td>\n      <td>В США в пригороде Балтимора полицейские застре...</td>\n      <td>Мир</td>\n      <td>Общество</td>\n    </tr>\n    <tr>\n      <th>2</th>\n      <td>https://lenta.ru/news/2015/06/26/greece/</td>\n      <td>ЕС выразил надежду достичь соглашения с Грецие...</td>\n      <td>В руководстве Евросоюза рассчитывают, что согл...</td>\n      <td>Мир</td>\n      <td>Политика</td>\n    </tr>\n    <tr>\n      <th>3</th>\n      <td>https://lenta.ru/news/2015/06/26/bomb/</td>\n      <td>Дети подорвались на установленной владельцем д...</td>\n      <td>В Приморском крае двое детей подорвались на са...</td>\n      <td>Силовые структуры</td>\n      <td>Полиция и спецслужбы</td>\n    </tr>\n    <tr>\n      <th>4</th>\n      <td>https://lenta.ru/news/2015/06/26/eyesocket/</td>\n      <td>Зоркость людей объяснили устройством черепа</td>\n      <td>По сравнению с другими приматами человек облад...</td>\n      <td>Наука и техника</td>\n      <td>Наука</td>\n    </tr>\n  </tbody>\n</table>\n</div>"
     },
     "metadata": {},
     "output_type": "execute_result",
     "execution_count": 3
    }
   ],
   "source": [
    "df.head()"
   ],
   "metadata": {
    "collapsed": false,
    "pycharm": {
     "name": "#%%\n",
     "is_executing": false
    }
   }
  },
  {
   "cell_type": "code",
   "execution_count": 4,
   "outputs": [
    {
     "name": "stdout",
     "text": [
      "<class 'pandas.core.frame.DataFrame'>\n",
      "RangeIndex: 162059 entries, 0 to 162058\n",
      "Data columns (total 5 columns):\n",
      "url      162059 non-null object\n",
      "title    162059 non-null object\n",
      "text     162058 non-null object\n",
      "topic    155895 non-null object\n",
      "tags     151371 non-null object\n",
      "dtypes: object(5)\n",
      "memory usage: 6.2+ MB\n"
     ],
     "output_type": "stream"
    }
   ],
   "source": [
    "df.info()"
   ],
   "metadata": {
    "collapsed": false,
    "pycharm": {
     "name": "#%%\n",
     "is_executing": false
    }
   }
  },
  {
   "cell_type": "code",
   "execution_count": 5,
   "outputs": [
    {
     "name": "stdout",
     "text": [
      "<class 'pandas.core.frame.DataFrame'>\n",
      "Int64Index: 155894 entries, 0 to 162058\n",
      "Data columns (total 5 columns):\n",
      "url      155894 non-null object\n",
      "title    155894 non-null object\n",
      "text     155894 non-null object\n",
      "topic    155894 non-null object\n",
      "tags     145233 non-null object\n",
      "dtypes: object(5)\n",
      "memory usage: 7.1+ MB\n"
     ],
     "output_type": "stream"
    }
   ],
   "source": [
    "df.dropna(subset=['text', 'topic'], inplace=True)\n",
    "df.info()"
   ],
   "metadata": {
    "collapsed": false,
    "pycharm": {
     "name": "#%%\n",
     "is_executing": false
    }
   }
  },
  {
   "cell_type": "code",
   "execution_count": 6,
   "outputs": [
    {
     "data": {
      "text/plain": "topic\n69-я параллель        1047\nБывший СССР          12217\nДом                   5203\nИз жизни              6061\nИнтернет и СМИ       10151\nКрым                   664\nКультпросвет           338\nКультура              9968\nЛегпром                111\nМир                  23907\nНаука и техника       8975\nПутешествия           5550\nРоссия               25277\nСиловые структуры    13303\nСпорт                15759\nЦенности              6787\nЭкономика            10576\nName: text, dtype: int64"
     },
     "metadata": {},
     "output_type": "execute_result",
     "execution_count": 6
    }
   ],
   "source": [
    "df.groupby('topic').count()['text']"
   ],
   "metadata": {
    "collapsed": false,
    "pycharm": {
     "name": "#%%\n",
     "is_executing": false
    }
   }
  },
  {
   "cell_type": "code",
   "execution_count": 7,
   "outputs": [],
   "source": [
    "df = df.query(\"topic not in ['69-я параллель', 'Крым', 'Культпросвет', 'Легпром']\")"
   ],
   "metadata": {
    "collapsed": false,
    "pycharm": {
     "name": "#%%\n",
     "is_executing": false
    }
   }
  },
  {
   "cell_type": "code",
   "execution_count": 8,
   "outputs": [
    {
     "data": {
      "text/plain": "topic\nБывший СССР          12217\nДом                   5203\nИз жизни              6061\nИнтернет и СМИ       10151\nКультпросвет           338\nКультура              9968\nМир                  23907\nНаука и техника       8975\nПутешествия           5550\nРоссия               25277\nСиловые структуры    13303\nСпорт                15759\nЦенности              6787\nЭкономика            10576\nName: text, dtype: int64"
     },
     "metadata": {},
     "output_type": "execute_result",
     "execution_count": 8
    }
   ],
   "source": [
    "df.groupby('topic').count()['text']"
   ],
   "metadata": {
    "collapsed": false,
    "pycharm": {
     "name": "#%%\n",
     "is_executing": false
    }
   }
  },
  {
   "cell_type": "code",
   "execution_count": 9,
   "outputs": [],
   "source": [],
   "metadata": {
    "collapsed": false,
    "pycharm": {
     "name": "#%%\n",
     "is_executing": false
    }
   }
  }
 ],
 "metadata": {
  "kernelspec": {
   "display_name": "Python 3",
   "language": "python",
   "name": "python3"
  },
  "language_info": {
   "codemirror_mode": {
    "name": "ipython",
    "version": 2
   },
   "file_extension": ".py",
   "mimetype": "text/x-python",
   "name": "python",
   "nbconvert_exporter": "python",
   "pygments_lexer": "ipython2",
   "version": "2.7.6"
  },
  "pycharm": {
   "stem_cell": {
    "cell_type": "raw",
    "source": [],
    "metadata": {
     "collapsed": false
    }
   }
  }
 },
 "nbformat": 4,
 "nbformat_minor": 0
}